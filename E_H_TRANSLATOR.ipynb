{
  "cells": [
    {
      "cell_type": "code",
      "source": [
        "import tensorflow as tf\n",
        "\n",
        "# Check the current version of TensorFlow.\n",
        "tf.__version__"
      ],
      "metadata": {
        "id": "MZ6evWOJnIPc",
        "colab": {
          "base_uri": "https://localhost:8080/",
          "height": 35
        },
        "outputId": "b778462f-3b8f-4151-dd24-ceba27c7dcc4"
      },
      "id": "MZ6evWOJnIPc",
      "execution_count": 89,
      "outputs": [
        {
          "output_type": "execute_result",
          "data": {
            "text/plain": [
              "'2.8.0'"
            ],
            "application/vnd.google.colaboratory.intrinsic+json": {
              "type": "string"
            }
          },
          "metadata": {},
          "execution_count": 89
        }
      ]
    },
    {
      "cell_type": "markdown",
      "source": [
        "I"
      ],
      "metadata": {
        "id": "w8hIwxiY6WoZ"
      },
      "id": "w8hIwxiY6WoZ"
    },
    {
      "cell_type": "code",
      "source": [
        "# Uninstall the current version of TensorFlow.\n",
        "#!pip uninstall tensorflow"
      ],
      "metadata": {
        "id": "Y_QqdXr1nIai"
      },
      "id": "Y_QqdXr1nIai",
      "execution_count": 90,
      "outputs": []
    },
    {
      "cell_type": "code",
      "source": [
        "# Install the desired version of TensorFlow.\n",
        "#!pip install tensorflow==2.8"
      ],
      "metadata": {
        "id": "64A4nDxmnIle"
      },
      "id": "64A4nDxmnIle",
      "execution_count": 91,
      "outputs": []
    },
    {
      "cell_type": "code",
      "source": [
        "# Verify the TensorFlow version.\n",
        "print(tf.__version__)"
      ],
      "metadata": {
        "colab": {
          "base_uri": "https://localhost:8080/"
        },
        "id": "Ldb7GKkhnkcf",
        "outputId": "0bb5a1c9-7ea2-4558-b51c-de29eefe1397"
      },
      "id": "Ldb7GKkhnkcf",
      "execution_count": 92,
      "outputs": [
        {
          "output_type": "stream",
          "name": "stdout",
          "text": [
            "2.8.0\n"
          ]
        }
      ]
    },
    {
      "cell_type": "markdown",
      "source": [
        "# **Importing Libraries**"
      ],
      "metadata": {
        "id": "60pqZEx06NuM"
      },
      "id": "60pqZEx06NuM"
    },
    {
      "cell_type": "code",
      "source": [
        "# Importing libraries\n",
        "import os\n",
        "import pickle\n",
        "import pandas as pd\n",
        "import numpy as np\n",
        "import random\n",
        "import string\n",
        "import re\n",
        "import numpy as np\n",
        "from nltk.translate.bleu_score import sentence_bleu\n",
        "import tensorflow as tf\n",
        "from tensorflow import keras\n",
        "from tensorflow.keras import layers\n",
        "from tensorflow.keras.callbacks import EarlyStopping, ReduceLROnPlateau\n",
        "from tensorflow.keras.layers import TextVectorization\n",
        "\n",
        "import warnings\n",
        "warnings.filterwarnings(\"ignore\")"
      ],
      "metadata": {
        "id": "Pa0BA37O4G74"
      },
      "id": "Pa0BA37O4G74",
      "execution_count": 93,
      "outputs": []
    },
    {
      "cell_type": "markdown",
      "source": [
        "**Reading Data & Preprocessing Text**\n"
      ],
      "metadata": {
        "id": "-4iV80ctqlQA"
      },
      "id": "-4iV80ctqlQA"
    },
    {
      "cell_type": "code",
      "source": [
        "#importing drive\n",
        "from google.colab import drive\n",
        "drive.mount('/content/drive')"
      ],
      "metadata": {
        "id": "mwFpJeXEqj7U",
        "colab": {
          "base_uri": "https://localhost:8080/"
        },
        "outputId": "b9113c82-38c1-4fae-de37-7dad218f28ae"
      },
      "id": "mwFpJeXEqj7U",
      "execution_count": 94,
      "outputs": [
        {
          "output_type": "stream",
          "name": "stdout",
          "text": [
            "Drive already mounted at /content/drive; to attempt to forcibly remount, call drive.mount(\"/content/drive\", force_remount=True).\n"
          ]
        }
      ]
    },
    {
      "cell_type": "code",
      "source": [
        "# Specify the encoding explicitly, replace 'utf-8' with the correct encoding if needed\n",
        "df = pd.read_csv (\"/content/drive/MyDrive/Colab Notebooks/DATASET/CSV/126k.csv\")\n",
        "\n",
        "# Drop the 'source' column\n",
        "df.drop([\"source\"], axis=1, inplace=True)\n",
        "\n",
        "# Drop rows with missing values\n",
        "df.dropna(axis=0, inplace=True)\n",
        "\n",
        "# Rename columns\n",
        "df.rename(columns={\"english_sentence\": \"english_sent\", \"hindi_sentence\": \"hindi_sent\"}, inplace=True)\n",
        "\n",
        "# Display the first few rows of the DataFrame\n",
        "df.head()"
      ],
      "metadata": {
        "colab": {
          "base_uri": "https://localhost:8080/",
          "height": 206
        },
        "id": "zM_-8UIGqkGF",
        "outputId": "697cab70-9b82-41d3-929c-0ec62fc835da"
      },
      "id": "zM_-8UIGqkGF",
      "execution_count": 95,
      "outputs": [
        {
          "output_type": "execute_result",
          "data": {
            "text/plain": [
              "                                        english_sent  \\\n",
              "0  politicians do not have permission to do what ...   \n",
              "1         I'd like to tell you about one such child,   \n",
              "2  This percentage is even greater than the perce...   \n",
              "3  what we really mean is that they're bad at not...   \n",
              "4  .The ending portion of these Vedas is called U...   \n",
              "\n",
              "                                          hindi_sent  \n",
              "0  राजनीतिज्ञों के पास जो कार्य करना चाहिए, वह कर...  \n",
              "1  मई आपको ऐसे ही एक बच्चे के बारे में बताना चाहू...  \n",
              "2   यह प्रतिशत भारत में हिन्दुओं प्रतिशत से अधिक है।  \n",
              "3     हम ये नहीं कहना चाहते कि वो ध्यान नहीं दे पाते  \n",
              "4        इन्हीं वेदों का अंतिम भाग उपनिषद कहलाता है।  "
            ],
            "text/html": [
              "\n",
              "  <div id=\"df-11447f7a-05be-4b94-8fa7-da240358162e\" class=\"colab-df-container\">\n",
              "    <div>\n",
              "<style scoped>\n",
              "    .dataframe tbody tr th:only-of-type {\n",
              "        vertical-align: middle;\n",
              "    }\n",
              "\n",
              "    .dataframe tbody tr th {\n",
              "        vertical-align: top;\n",
              "    }\n",
              "\n",
              "    .dataframe thead th {\n",
              "        text-align: right;\n",
              "    }\n",
              "</style>\n",
              "<table border=\"1\" class=\"dataframe\">\n",
              "  <thead>\n",
              "    <tr style=\"text-align: right;\">\n",
              "      <th></th>\n",
              "      <th>english_sent</th>\n",
              "      <th>hindi_sent</th>\n",
              "    </tr>\n",
              "  </thead>\n",
              "  <tbody>\n",
              "    <tr>\n",
              "      <th>0</th>\n",
              "      <td>politicians do not have permission to do what ...</td>\n",
              "      <td>राजनीतिज्ञों के पास जो कार्य करना चाहिए, वह कर...</td>\n",
              "    </tr>\n",
              "    <tr>\n",
              "      <th>1</th>\n",
              "      <td>I'd like to tell you about one such child,</td>\n",
              "      <td>मई आपको ऐसे ही एक बच्चे के बारे में बताना चाहू...</td>\n",
              "    </tr>\n",
              "    <tr>\n",
              "      <th>2</th>\n",
              "      <td>This percentage is even greater than the perce...</td>\n",
              "      <td>यह प्रतिशत भारत में हिन्दुओं प्रतिशत से अधिक है।</td>\n",
              "    </tr>\n",
              "    <tr>\n",
              "      <th>3</th>\n",
              "      <td>what we really mean is that they're bad at not...</td>\n",
              "      <td>हम ये नहीं कहना चाहते कि वो ध्यान नहीं दे पाते</td>\n",
              "    </tr>\n",
              "    <tr>\n",
              "      <th>4</th>\n",
              "      <td>.The ending portion of these Vedas is called U...</td>\n",
              "      <td>इन्हीं वेदों का अंतिम भाग उपनिषद कहलाता है।</td>\n",
              "    </tr>\n",
              "  </tbody>\n",
              "</table>\n",
              "</div>\n",
              "    <div class=\"colab-df-buttons\">\n",
              "\n",
              "  <div class=\"colab-df-container\">\n",
              "    <button class=\"colab-df-convert\" onclick=\"convertToInteractive('df-11447f7a-05be-4b94-8fa7-da240358162e')\"\n",
              "            title=\"Convert this dataframe to an interactive table.\"\n",
              "            style=\"display:none;\">\n",
              "\n",
              "  <svg xmlns=\"http://www.w3.org/2000/svg\" height=\"24px\" viewBox=\"0 -960 960 960\">\n",
              "    <path d=\"M120-120v-720h720v720H120Zm60-500h600v-160H180v160Zm220 220h160v-160H400v160Zm0 220h160v-160H400v160ZM180-400h160v-160H180v160Zm440 0h160v-160H620v160ZM180-180h160v-160H180v160Zm440 0h160v-160H620v160Z\"/>\n",
              "  </svg>\n",
              "    </button>\n",
              "\n",
              "  <style>\n",
              "    .colab-df-container {\n",
              "      display:flex;\n",
              "      gap: 12px;\n",
              "    }\n",
              "\n",
              "    .colab-df-convert {\n",
              "      background-color: #E8F0FE;\n",
              "      border: none;\n",
              "      border-radius: 50%;\n",
              "      cursor: pointer;\n",
              "      display: none;\n",
              "      fill: #1967D2;\n",
              "      height: 32px;\n",
              "      padding: 0 0 0 0;\n",
              "      width: 32px;\n",
              "    }\n",
              "\n",
              "    .colab-df-convert:hover {\n",
              "      background-color: #E2EBFA;\n",
              "      box-shadow: 0px 1px 2px rgba(60, 64, 67, 0.3), 0px 1px 3px 1px rgba(60, 64, 67, 0.15);\n",
              "      fill: #174EA6;\n",
              "    }\n",
              "\n",
              "    .colab-df-buttons div {\n",
              "      margin-bottom: 4px;\n",
              "    }\n",
              "\n",
              "    [theme=dark] .colab-df-convert {\n",
              "      background-color: #3B4455;\n",
              "      fill: #D2E3FC;\n",
              "    }\n",
              "\n",
              "    [theme=dark] .colab-df-convert:hover {\n",
              "      background-color: #434B5C;\n",
              "      box-shadow: 0px 1px 3px 1px rgba(0, 0, 0, 0.15);\n",
              "      filter: drop-shadow(0px 1px 2px rgba(0, 0, 0, 0.3));\n",
              "      fill: #FFFFFF;\n",
              "    }\n",
              "  </style>\n",
              "\n",
              "    <script>\n",
              "      const buttonEl =\n",
              "        document.querySelector('#df-11447f7a-05be-4b94-8fa7-da240358162e button.colab-df-convert');\n",
              "      buttonEl.style.display =\n",
              "        google.colab.kernel.accessAllowed ? 'block' : 'none';\n",
              "\n",
              "      async function convertToInteractive(key) {\n",
              "        const element = document.querySelector('#df-11447f7a-05be-4b94-8fa7-da240358162e');\n",
              "        const dataTable =\n",
              "          await google.colab.kernel.invokeFunction('convertToInteractive',\n",
              "                                                    [key], {});\n",
              "        if (!dataTable) return;\n",
              "\n",
              "        const docLinkHtml = 'Like what you see? Visit the ' +\n",
              "          '<a target=\"_blank\" href=https://colab.research.google.com/notebooks/data_table.ipynb>data table notebook</a>'\n",
              "          + ' to learn more about interactive tables.';\n",
              "        element.innerHTML = '';\n",
              "        dataTable['output_type'] = 'display_data';\n",
              "        await google.colab.output.renderOutput(dataTable, element);\n",
              "        const docLink = document.createElement('div');\n",
              "        docLink.innerHTML = docLinkHtml;\n",
              "        element.appendChild(docLink);\n",
              "      }\n",
              "    </script>\n",
              "  </div>\n",
              "\n",
              "\n",
              "<div id=\"df-df4c3d98-a9a2-40e7-8257-815267f7a633\">\n",
              "  <button class=\"colab-df-quickchart\" onclick=\"quickchart('df-df4c3d98-a9a2-40e7-8257-815267f7a633')\"\n",
              "            title=\"Suggest charts.\"\n",
              "            style=\"display:none;\">\n",
              "\n",
              "<svg xmlns=\"http://www.w3.org/2000/svg\" height=\"24px\"viewBox=\"0 0 24 24\"\n",
              "     width=\"24px\">\n",
              "    <g>\n",
              "        <path d=\"M19 3H5c-1.1 0-2 .9-2 2v14c0 1.1.9 2 2 2h14c1.1 0 2-.9 2-2V5c0-1.1-.9-2-2-2zM9 17H7v-7h2v7zm4 0h-2V7h2v10zm4 0h-2v-4h2v4z\"/>\n",
              "    </g>\n",
              "</svg>\n",
              "  </button>\n",
              "\n",
              "<style>\n",
              "  .colab-df-quickchart {\n",
              "    background-color: #E8F0FE;\n",
              "    border: none;\n",
              "    border-radius: 50%;\n",
              "    cursor: pointer;\n",
              "    display: none;\n",
              "    fill: #1967D2;\n",
              "    height: 32px;\n",
              "    padding: 0 0 0 0;\n",
              "    width: 32px;\n",
              "  }\n",
              "\n",
              "  .colab-df-quickchart:hover {\n",
              "    background-color: #E2EBFA;\n",
              "    box-shadow: 0px 1px 2px rgba(60, 64, 67, 0.3), 0px 1px 3px 1px rgba(60, 64, 67, 0.15);\n",
              "    fill: #174EA6;\n",
              "  }\n",
              "\n",
              "  [theme=dark] .colab-df-quickchart {\n",
              "    background-color: #3B4455;\n",
              "    fill: #D2E3FC;\n",
              "  }\n",
              "\n",
              "  [theme=dark] .colab-df-quickchart:hover {\n",
              "    background-color: #434B5C;\n",
              "    box-shadow: 0px 1px 3px 1px rgba(0, 0, 0, 0.15);\n",
              "    filter: drop-shadow(0px 1px 2px rgba(0, 0, 0, 0.3));\n",
              "    fill: #FFFFFF;\n",
              "  }\n",
              "</style>\n",
              "\n",
              "  <script>\n",
              "    async function quickchart(key) {\n",
              "      const charts = await google.colab.kernel.invokeFunction(\n",
              "          'suggestCharts', [key], {});\n",
              "    }\n",
              "    (() => {\n",
              "      let quickchartButtonEl =\n",
              "        document.querySelector('#df-df4c3d98-a9a2-40e7-8257-815267f7a633 button');\n",
              "      quickchartButtonEl.style.display =\n",
              "        google.colab.kernel.accessAllowed ? 'block' : 'none';\n",
              "    })();\n",
              "  </script>\n",
              "</div>\n",
              "    </div>\n",
              "  </div>\n"
            ]
          },
          "metadata": {},
          "execution_count": 95
        }
      ]
    },
    {
      "cell_type": "markdown",
      "source": [
        "**Defining Parameters**"
      ],
      "metadata": {
        "id": "0DefdKag4d1D"
      },
      "id": "0DefdKag4d1D"
    },
    {
      "cell_type": "code",
      "source": [
        "# Tranining Hyperparameters\n",
        "batch_size = 256\n",
        "\n",
        "# Model Hyperparameters\n",
        "embed_dim = 128\n",
        "num_heads = 10\n",
        "latent_dim = 2048\n",
        "vocab_size = 20000\n",
        "sequence_length = 20\n",
        "dropout = 0.2"
      ],
      "metadata": {
        "id": "97R0XgCb4gwF"
      },
      "id": "97R0XgCb4gwF",
      "execution_count": 96,
      "outputs": []
    },
    {
      "cell_type": "markdown",
      "source": [
        "# **Defining Functions**"
      ],
      "metadata": {
        "id": "CaPuPV0S4s7V"
      },
      "id": "CaPuPV0S4s7V"
    },
    {
      "cell_type": "code",
      "source": [
        "def preprocess_text(df):\n",
        "    # Lowercase the characters\n",
        "    df[\"english_sent\"] = df[\"english_sent\"].apply(lambda x : x.lower())\n",
        "    df[\"hindi_sent\"] = df[\"hindi_sent\"].apply(lambda x : x.lower())\n",
        "\n",
        "    # Rmoving URLs\n",
        "    df[\"english_sent\"] = df[\"english_sent\"].apply(lambda x : re.sub(r\"http\\S+\", \"\", x))\n",
        "    df[\"hindi_sent\"] = df[\"hindi_sent\"].apply(lambda x : re.sub(r\"http\\S+\", \"\", x))\n",
        "\n",
        "    # Removing digits\n",
        "    remove_digits = str.maketrans(\"\", \"\",string.digits)\n",
        "    df[\"english_sent\"] = df[\"english_sent\"].apply(lambda x : x.translate(remove_digits))\n",
        "    df[\"hindi_sent\"] = df[\"hindi_sent\"].apply(lambda x : x.translate(remove_digits))\n",
        "    df[\"hindi_sent\"] = df[\"hindi_sent\"].apply(lambda x : re.sub(\"[a-zA-z२३०८१५७९४६]\", \"\", x))\n",
        "\n",
        "    # Remove special characters\n",
        "    special = set(string.punctuation)\n",
        "    df['english_sent'] = df['english_sent'].apply(lambda x : ''.join(ch for ch in x if ch not in special))\n",
        "    df['hindi_sent'] = df['hindi_sent'].apply(lambda x : ''.join(ch for ch in x if ch not in special))\n",
        "\n",
        "    # Remove quotes\n",
        "    df['english_sent'] = df['english_sent'].apply(lambda x: re.sub(\"'\", '', x))\n",
        "    df['hindi_sent'] = df['hindi_sent'].apply(lambda x: re.sub(\"'\", '', x))\n",
        "\n",
        "    # Remove extra spaces\n",
        "    df['english_sent'] = df['english_sent'].apply(lambda x : x.strip())\n",
        "    df['hindi_sent'] = df['hindi_sent'].apply(lambda x : x.strip())\n",
        "    df['english_sent'] = df['english_sent'].apply(lambda x : re.sub(\" +\",\" \",x))\n",
        "    df['hindi_sent'] = df['hindi_sent'].apply(lambda x : re.sub(\" +\",\" \",x))\n",
        "\n",
        "\n",
        "    # Add [start] and [end] tags\n",
        "    df[\"hindi_sent\"] = df[\"hindi_sent\"].apply(lambda x : \"[start] \" + x + \" [end]\")"
      ],
      "metadata": {
        "id": "YbZ23GWU4unW"
      },
      "execution_count": 97,
      "outputs": [],
      "id": "YbZ23GWU4unW"
    },
    {
      "cell_type": "code",
      "source": [
        "def decode_sequence(input_sentence):\n",
        "    hindi_vocab = hindi_vectorization.get_vocabulary()\n",
        "    hindi_index_lookup = dict(zip(range(len(hindi_vocab)), hindi_vocab))\n",
        "    max_decoded_sentence_length = 20\n",
        "\n",
        "    tokenized_input_sentence = eng_vectorization([input_sentence])\n",
        "    decoded_sentence = \"[start]\"\n",
        "    for i in range(max_decoded_sentence_length):\n",
        "        tokenized_target_sentence = hindi_vectorization([decoded_sentence])[:, :-1]\n",
        "        predictions = transformer([tokenized_input_sentence, tokenized_target_sentence])\n",
        "\n",
        "        sampled_token_index = np.argmax(predictions[0, i, :])\n",
        "        sampled_token = hindi_index_lookup[sampled_token_index]\n",
        "        decoded_sentence += \" \" + sampled_token\n",
        "\n",
        "        if sampled_token == \"[end]\":\n",
        "            break\n",
        "\n",
        "    return decoded_sentence[8:-5] # Removing [start] and [end] tokens"
      ],
      "metadata": {
        "id": "sc8smfad4t7k"
      },
      "execution_count": 98,
      "outputs": [],
      "id": "sc8smfad4t7k"
    },
    {
      "cell_type": "code",
      "source": [
        "# For creating Dataset\n",
        "def format_dataset(eng, hin):\n",
        "    eng = eng_vectorization(eng)\n",
        "    hindi = hindi_vectorization(hin)\n",
        "    return ({\"encoder_inputs\" : eng, \"decoder_inputs\" : hindi[:, :-1],}, hindi[:, 1:])\n",
        "\n",
        "\n",
        "def make_dataset(df):\n",
        "    dataset = tf.data.Dataset.from_tensor_slices((df[\"english_sent\"].values, df[\"hindi_sent\"].values))\n",
        "    dataset = dataset.batch(batch_size)\n",
        "    dataset = dataset.map(format_dataset)\n",
        "    return dataset.shuffle(2048).prefetch(16).cache()"
      ],
      "metadata": {
        "id": "K82hrwHa4oeE"
      },
      "execution_count": 99,
      "outputs": [],
      "id": "K82hrwHa4oeE"
    },
    {
      "cell_type": "code",
      "source": [
        "# Preprocess text\n",
        "preprocess_text(df)\n",
        "\n",
        "# Drop rows with Null values\n",
        "df.drop(df[df[\"english_sent\"] == \" \"].index, inplace = True)\n",
        "df.drop(df[df[\"hindi_sent\"] == \"[start]  [end]\"].index, inplace = True)"
      ],
      "metadata": {
        "id": "J1ftlLj95A30"
      },
      "id": "J1ftlLj95A30",
      "execution_count": 100,
      "outputs": []
    },
    {
      "cell_type": "code",
      "source": [
        "# Find Sentence Length\n",
        "df[\"eng_sent_length\"] = df[\"english_sent\"].apply(lambda x : len(x.split(' ')))\n",
        "df[\"hindi_sent_length\"] = df[\"hindi_sent\"].apply(lambda x : len(x.split(' ')))"
      ],
      "metadata": {
        "id": "obo2qS-85ID3"
      },
      "id": "obo2qS-85ID3",
      "execution_count": 101,
      "outputs": []
    },
    {
      "cell_type": "code",
      "source": [
        "# Get sentences with specific length 20\n",
        "df = df[df[\"eng_sent_length\"] <= 20]\n",
        "df = df[df[\"hindi_sent_length\"] <= 20]\n",
        "\n",
        "# Take 85K records for training\n",
        "df = df.sample(n = 85000, random_state = 2048)\n",
        "df = df.reset_index(drop = True)\n",
        "\n",
        "# Defining train, valid, test\n",
        "train = df.iloc[:80000]\n",
        "val = df.iloc[80000:84500]\n",
        "test = df.iloc[84500:]"
      ],
      "metadata": {
        "id": "3L4_otlH5KiF"
      },
      "id": "3L4_otlH5KiF",
      "execution_count": 102,
      "outputs": []
    },
    {
      "cell_type": "markdown",
      "source": [
        "# Tokenizing Sentences"
      ],
      "metadata": {
        "id": "y1vFA5ap5OwZ"
      },
      "id": "y1vFA5ap5OwZ"
    },
    {
      "cell_type": "code",
      "source": [
        "# Using TextVectorization to create sentence vectors\n",
        "strip_chars = string.punctuation + \"¿\"\n",
        "strip_chars = strip_chars.replace(\"[\", \"\")\n",
        "strip_chars = strip_chars.replace(\"]\", \"\")\n",
        "\n",
        "\n",
        "def custom_standardization(input_string):\n",
        "    lowercase = tf.strings.lower(input_string)\n",
        "    return tf.strings.regex_replace(lowercase, \"[%s]\" % re.escape(strip_chars), \"\")\n",
        "\n",
        "eng_vectorization = TextVectorization(\n",
        "    max_tokens = vocab_size, output_mode = \"int\", output_sequence_length = sequence_length\n",
        "    )\n",
        "\n",
        "hindi_vectorization = TextVectorization(\n",
        "    max_tokens = vocab_size, output_mode = \"int\", output_sequence_length = sequence_length + 1, standardize=custom_standardization\n",
        ")\n",
        "\n",
        "eng_vectorization.adapt(df[\"english_sent\"].values)\n",
        "hindi_vectorization.adapt(df[\"hindi_sent\"].values)"
      ],
      "metadata": {
        "id": "TYje3x8L5PxW"
      },
      "id": "TYje3x8L5PxW",
      "execution_count": 103,
      "outputs": []
    },
    {
      "cell_type": "code",
      "source": [
        "# Savng parameters and weights of both vectorizer\n",
        "pickle.dump({'config': eng_vectorization.get_config(),\n",
        "             'weights': eng_vectorization.get_weights()}\n",
        "            , open(\"eng_vectorizer.pkl\", \"wb\"))\n",
        "\n",
        "pickle.dump({'config': hindi_vectorization.get_config(),\n",
        "             'weights': hindi_vectorization.get_weights()}\n",
        "            , open(\"hindi_vectorizer.pkl\", \"wb\"))"
      ],
      "metadata": {
        "id": "M13BasVY5SxQ"
      },
      "id": "M13BasVY5SxQ",
      "execution_count": 104,
      "outputs": []
    },
    {
      "cell_type": "markdown",
      "source": [
        "## Creating Dataset"
      ],
      "metadata": {
        "id": "PilPKUtN5XiX"
      },
      "id": "PilPKUtN5XiX"
    },
    {
      "cell_type": "code",
      "source": [
        "train_ds = make_dataset(train)\n",
        "val_ds = make_dataset(val)"
      ],
      "metadata": {
        "id": "WEE7zyBo5VHl"
      },
      "id": "WEE7zyBo5VHl",
      "execution_count": 105,
      "outputs": []
    },
    {
      "cell_type": "code",
      "source": [
        "class PositionalEmbedding(layers.Layer):\n",
        "    def __init__(self, sequence_len, vocab_size, embed_dim, **kwargs):\n",
        "        super(PositionalEmbedding, self).__init__(**kwargs)\n",
        "        self.sequence_len = sequence_len\n",
        "        self.vocab_size = vocab_size\n",
        "        self.embed_dim = embed_dim\n",
        "        self.token_embedding = layers.Embedding(\n",
        "            input_dim = vocab_size, output_dim = embed_dim\n",
        "        )\n",
        "        self.position_embedding = layers.Embedding(\n",
        "            input_dim = sequence_len, output_dim = embed_dim\n",
        "        )\n",
        "\n",
        "    def call(self, inputs):\n",
        "        length = tf.shape(inputs)[-1]\n",
        "        positions = tf.range(start = 0, limit = length, delta = 1)\n",
        "        embedded_tokens = self.token_embedding(inputs)\n",
        "        embedded_positions = self.position_embedding(positions)\n",
        "        return embedded_tokens + embedded_positions\n",
        "\n",
        "    def compute_mask(self, inputs, mask=None):\n",
        "        return tf.math.not_equal(inputs, 0)"
      ],
      "metadata": {
        "id": "C-qs_o5V5bEj"
      },
      "id": "C-qs_o5V5bEj",
      "execution_count": 106,
      "outputs": []
    },
    {
      "cell_type": "code",
      "source": [
        "class TransformerEncoder(layers.Layer):\n",
        "    def __init__(self, embed_dim, latent_dim, num_heads, dropout,**kwargs):\n",
        "        super(TransformerEncoder, self).__init__(**kwargs)\n",
        "        self.embed_dim = embed_dim\n",
        "        self.latent_dim = latent_dim\n",
        "        self.num_heads = num_heads\n",
        "        self.dropout = dropout\n",
        "        self.attention = layers.MultiHeadAttention(\n",
        "            num_heads = num_heads, key_dim = embed_dim\n",
        "        )\n",
        "        self.layer_norm1 = layers.LayerNormalization()\n",
        "        self.layer_norm2 = layers.LayerNormalization()\n",
        "        self.layer_ffn = keras.Sequential(\n",
        "            [layers.Dense(latent_dim, activation=\"relu\"),\n",
        "             layers.Dropout(dropout),\n",
        "             layers.Dense(embed_dim),]\n",
        "            )\n",
        "        self.supports_masking = True\n",
        "\n",
        "    def call(self, inputs, mask = None):\n",
        "        if mask is not None:\n",
        "            padding_mask = tf.cast(mask[:, tf.newaxis, tf.newaxis, :], dtype=\"int32\")\n",
        "\n",
        "        attention_output = self.attention(\n",
        "            query = inputs, value = inputs, key = inputs, attention_mask = padding_mask\n",
        "        )\n",
        "        ffn_input = self.layer_norm1(inputs + attention_output)\n",
        "        ffn_output = self.layer_ffn(ffn_input)\n",
        "        return self.layer_norm2(ffn_input + ffn_output)"
      ],
      "metadata": {
        "id": "tamjymqD5db4"
      },
      "id": "tamjymqD5db4",
      "execution_count": 107,
      "outputs": []
    },
    {
      "cell_type": "code",
      "source": [
        "class TransformerDecoder(layers.Layer):\n",
        "    def __init__(self, embed_dim, latent_dim, num_heads, sropout,**kwargs):\n",
        "        super(TransformerDecoder, self).__init__(**kwargs)\n",
        "        self.embed_dim = embed_dim\n",
        "        self.latent_dim = latent_dim\n",
        "        self.num_heads = num_heads\n",
        "        self.dropout = dropout\n",
        "        self.attention1 = layers.MultiHeadAttention(\n",
        "            num_heads = num_heads, key_dim = embed_dim\n",
        "        )\n",
        "        self.attention2 = layers.MultiHeadAttention(\n",
        "            num_heads = num_heads, key_dim = embed_dim\n",
        "        )\n",
        "        self.layer_ffn = keras.Sequential(\n",
        "            [layers.Dense(latent_dim, activation=\"relu\"),\n",
        "             layers.Dropout(dropout),\n",
        "             layers.Dense(embed_dim),]\n",
        "        )\n",
        "        self.layer_norm1 = layers.LayerNormalization()\n",
        "        self.layer_norm2 = layers.LayerNormalization()\n",
        "        self.layer_norm3 = layers.LayerNormalization()\n",
        "\n",
        "        self.supports_masking = True\n",
        "\n",
        "    def call(self, inputs, encoder_outputs, mask = None):\n",
        "        causal_mask = self.get_causal_attention_mask(inputs)\n",
        "        if mask is not None:\n",
        "            padding_mask = tf.cast(mask[:, tf.newaxis, :], dtype=\"int32\")\n",
        "            padding_mask = tf.minimum(padding_mask, causal_mask)\n",
        "\n",
        "        attention_output1 = self.attention1(\n",
        "            query=inputs, value=inputs, key=inputs, attention_mask=causal_mask\n",
        "        )\n",
        "        out1 = self.layer_norm1(inputs + attention_output1)\n",
        "\n",
        "        attention_output2 = self.attention2(\n",
        "            query = out1, value = encoder_outputs, key = encoder_outputs, attention_mask = padding_mask\n",
        "        )\n",
        "        out2 = self.layer_norm2(out1 + attention_output2)\n",
        "\n",
        "        ffn_output = self.layer_ffn(out2)\n",
        "        return self.layer_norm3(out2 + ffn_output)\n",
        "\n",
        "    def get_causal_attention_mask(self, inputs):\n",
        "        input_shape = tf.shape(inputs)\n",
        "        batch_size, sequence_length = input_shape[0], input_shape[1]\n",
        "        i = tf.range(sequence_length)[:, tf.newaxis]\n",
        "        j = tf.range(sequence_length)\n",
        "        mask = tf.cast(i >= j, dtype=\"int32\")\n",
        "        mask = tf.reshape(mask, (1, input_shape[1], input_shape[1]))\n",
        "        mult = tf.concat(\n",
        "            [tf.expand_dims(batch_size, -1), tf.constant([1, 1], dtype=tf.int32)],\n",
        "            axis=0,\n",
        "        )\n",
        "        return tf.tile(mask, mult)"
      ],
      "metadata": {
        "id": "rUrtVISZ5gPC"
      },
      "id": "rUrtVISZ5gPC",
      "execution_count": 108,
      "outputs": []
    },
    {
      "cell_type": "code",
      "source": [
        "encoder_inputs = keras.Input(shape=(None,), dtype=\"int64\", name=\"encoder_inputs\")\n",
        "x = PositionalEmbedding(sequence_length, vocab_size, embed_dim)(encoder_inputs)\n",
        "encoder_outputs = TransformerEncoder(embed_dim, latent_dim, num_heads, dropout,name=\"encoder_1\")(x)\n",
        "encoder = keras.Model(encoder_inputs, encoder_outputs)\n",
        "\n",
        "decoder_inputs = keras.Input(shape=(None,), dtype=\"int64\", name=\"decoder_inputs\")\n",
        "encoded_seq_inputs = keras.Input(shape=(None, embed_dim), name=\"decoder_state_inputs\")\n",
        "x = PositionalEmbedding(sequence_length, vocab_size, embed_dim)(decoder_inputs)\n",
        "x = TransformerDecoder(embed_dim, latent_dim, num_heads, dropout,name=\"decoder_1\")(x, encoded_seq_inputs)\n",
        "x = layers.Dropout(0.4)(x)\n",
        "decoder_outputs = layers.Dense(vocab_size, activation=\"softmax\")(x)\n",
        "decoder = keras.Model([decoder_inputs, encoded_seq_inputs], decoder_outputs)\n",
        "\n",
        "decoder_outputs = decoder([decoder_inputs, encoder_outputs])\n",
        "transformer = keras.Model(\n",
        "    [encoder_inputs, decoder_inputs], decoder_outputs, name=\"transformer\"\n",
        ")"
      ],
      "metadata": {
        "id": "5UqxsYBw5kfC"
      },
      "id": "5UqxsYBw5kfC",
      "execution_count": 109,
      "outputs": []
    },
    {
      "cell_type": "code",
      "source": [
        "transformer.summary()"
      ],
      "metadata": {
        "colab": {
          "base_uri": "https://localhost:8080/"
        },
        "id": "Rsgk1Q5I5nyu",
        "outputId": "92ead806-8e7a-4fa3-a229-2f74ad14e633"
      },
      "id": "Rsgk1Q5I5nyu",
      "execution_count": 110,
      "outputs": [
        {
          "output_type": "stream",
          "name": "stdout",
          "text": [
            "Model: \"transformer\"\n",
            "__________________________________________________________________________________________________\n",
            " Layer (type)                   Output Shape         Param #     Connected to                     \n",
            "==================================================================================================\n",
            " encoder_inputs (InputLayer)    [(None, None)]       0           []                               \n",
            "                                                                                                  \n",
            " positional_embedding_6 (Positi  (None, None, 128)   2562560     ['encoder_inputs[0][0]']         \n",
            " onalEmbedding)                                                                                   \n",
            "                                                                                                  \n",
            " decoder_inputs (InputLayer)    [(None, None)]       0           []                               \n",
            "                                                                                                  \n",
            " encoder_1 (TransformerEncoder)  (None, None, 128)   1186304     ['positional_embedding_6[0][0]'] \n",
            "                                                                                                  \n",
            " model_7 (Functional)           (None, None, 20000)  6988448     ['decoder_inputs[0][0]',         \n",
            "                                                                  'encoder_1[0][0]']              \n",
            "                                                                                                  \n",
            "==================================================================================================\n",
            "Total params: 10,737,312\n",
            "Trainable params: 10,737,312\n",
            "Non-trainable params: 0\n",
            "__________________________________________________________________________________________________\n"
          ]
        }
      ]
    },
    {
      "cell_type": "markdown",
      "source": [
        "# Training Model"
      ],
      "metadata": {
        "id": "XeMyzUP35teu"
      },
      "id": "XeMyzUP35teu"
    },
    {
      "cell_type": "code",
      "source": [
        "# Defining callback functions\n",
        "early_stopping = EarlyStopping(patience = 5,restore_best_weights=True)\n",
        "\n",
        "reduce_lr = ReduceLROnPlateau(monitor='val_loss', factor=0.2, patience=3)\n",
        "\n",
        "# Compiling model\n",
        "transformer.compile(\n",
        "    optimizer = \"adam\",\n",
        "    loss=\"sparse_categorical_crossentropy\",\n",
        "    metrics = [\"accuracy\"]\n",
        ")\n",
        "\n",
        "# Training model\n",
        "transformer.fit(train_ds, epochs = 10, validation_data = val_ds, callbacks = [early_stopping, reduce_lr])"
      ],
      "metadata": {
        "colab": {
          "base_uri": "https://localhost:8080/"
        },
        "id": "uun78RsW5qE4",
        "outputId": "d89fc52e-68f5-4cfd-b608-67b7ff9bef5e"
      },
      "id": "uun78RsW5qE4",
      "execution_count": 111,
      "outputs": [
        {
          "output_type": "stream",
          "name": "stdout",
          "text": [
            "Epoch 1/10\n",
            "313/313 [==============================] - 51s 151ms/step - loss: 3.2045 - accuracy: 0.2421 - val_loss: 2.6882 - val_accuracy: 0.3061 - lr: 0.0010\n",
            "Epoch 2/10\n",
            "313/313 [==============================] - 47s 150ms/step - loss: 2.5322 - accuracy: 0.3286 - val_loss: 2.3703 - val_accuracy: 0.3577 - lr: 0.0010\n",
            "Epoch 3/10\n",
            "313/313 [==============================] - 48s 152ms/step - loss: 2.2041 - accuracy: 0.3808 - val_loss: 2.1825 - val_accuracy: 0.3868 - lr: 0.0010\n",
            "Epoch 4/10\n",
            "313/313 [==============================] - 48s 152ms/step - loss: 1.9521 - accuracy: 0.4240 - val_loss: 2.0540 - val_accuracy: 0.4095 - lr: 0.0010\n",
            "Epoch 5/10\n",
            "313/313 [==============================] - 48s 154ms/step - loss: 1.7512 - accuracy: 0.4615 - val_loss: 1.9765 - val_accuracy: 0.4295 - lr: 0.0010\n",
            "Epoch 6/10\n",
            "313/313 [==============================] - 47s 151ms/step - loss: 1.5920 - accuracy: 0.4944 - val_loss: 1.9411 - val_accuracy: 0.4402 - lr: 0.0010\n",
            "Epoch 7/10\n",
            "313/313 [==============================] - 49s 157ms/step - loss: 1.4630 - accuracy: 0.5219 - val_loss: 1.9324 - val_accuracy: 0.4504 - lr: 0.0010\n",
            "Epoch 8/10\n",
            "313/313 [==============================] - 48s 154ms/step - loss: 1.3587 - accuracy: 0.5449 - val_loss: 1.9434 - val_accuracy: 0.4549 - lr: 0.0010\n",
            "Epoch 9/10\n",
            "313/313 [==============================] - 48s 152ms/step - loss: 1.2711 - accuracy: 0.5651 - val_loss: 1.9540 - val_accuracy: 0.4589 - lr: 0.0010\n",
            "Epoch 10/10\n",
            "313/313 [==============================] - 47s 151ms/step - loss: 1.1935 - accuracy: 0.5835 - val_loss: 1.9746 - val_accuracy: 0.4615 - lr: 0.0010\n"
          ]
        },
        {
          "output_type": "execute_result",
          "data": {
            "text/plain": [
              "<keras.callbacks.History at 0x7e5d941cf940>"
            ]
          },
          "metadata": {},
          "execution_count": 111
        }
      ]
    },
    {
      "cell_type": "code",
      "source": [
        "# Saving weights of model\n",
        "transformer.save_weights(\"eng-hin.h5\")"
      ],
      "metadata": {
        "id": "WlC64Qy45xYz"
      },
      "id": "WlC64Qy45xYz",
      "execution_count": 112,
      "outputs": []
    },
    {
      "cell_type": "markdown",
      "source": [
        "# **Testing Model & Calculating BLEU Score**"
      ],
      "metadata": {
        "id": "duB_loUb59Je"
      },
      "id": "duB_loUb59Je"
    },
    {
      "cell_type": "code",
      "source": [
        "# Sample for testing\n",
        "eng = \"how are you\"\n",
        "print(\"English Sentence : \",eng)\n",
        "print(\"Translated Sentence : \",decode_sequence(eng))"
      ],
      "metadata": {
        "id": "4wb_ykgh58is",
        "colab": {
          "base_uri": "https://localhost:8080/"
        },
        "outputId": "a95a2861-0c01-4f82-ef45-954362991b3d"
      },
      "id": "4wb_ykgh58is",
      "execution_count": 113,
      "outputs": [
        {
          "output_type": "stream",
          "name": "stdout",
          "text": [
            "English Sentence :  how are you\n",
            "Translated Sentence :  आप कैसे जानते हैं \n"
          ]
        }
      ]
    },
    {
      "cell_type": "code",
      "source": [
        "# Calculating BLEU score for test data\n",
        "eng = test[\"english_sent\"].values\n",
        "original = test[\"hindi_sent\"].values\n",
        "\n",
        "translated = [decode_sequence(sent) for sent in eng]\n",
        "bleu = 0\n",
        "\n",
        "for i in range(test.shape[0]):\n",
        "    bleu += sentence_bleu([original[i].split()], translated[i].split(), weights = (0.5, 0.5))\n",
        "\n",
        "print(\"BLEU score is : \", bleu / test.shape[0])"
      ],
      "metadata": {
        "id": "3o0TQZTg6Afr",
        "colab": {
          "base_uri": "https://localhost:8080/"
        },
        "outputId": "acea7690-8f18-48a8-8a54-d6afcb227533"
      },
      "id": "3o0TQZTg6Afr",
      "execution_count": 114,
      "outputs": [
        {
          "output_type": "stream",
          "name": "stdout",
          "text": [
            "BLEU score is :  0.10398697617238595\n"
          ]
        }
      ]
    }
  ],
  "metadata": {
    "kernelspec": {
      "display_name": "Python 3",
      "name": "python3"
    },
    "language_info": {
      "codemirror_mode": {
        "name": "ipython",
        "version": 3
      },
      "file_extension": ".py",
      "mimetype": "text/x-python",
      "name": "python",
      "nbconvert_exporter": "python",
      "pygments_lexer": "ipython3",
      "version": "3.7.12"
    },
    "papermill": {
      "default_parameters": {},
      "duration": 1112.092208,
      "end_time": "2021-12-18T08:50:09.185992",
      "environment_variables": {},
      "exception": null,
      "input_path": "__notebook__.ipynb",
      "output_path": "__notebook__.ipynb",
      "parameters": {},
      "start_time": "2021-12-18T08:31:37.093784",
      "version": "2.3.3"
    },
    "colab": {
      "provenance": [],
      "gpuType": "T4"
    },
    "accelerator": "GPU"
  },
  "nbformat": 4,
  "nbformat_minor": 5
}